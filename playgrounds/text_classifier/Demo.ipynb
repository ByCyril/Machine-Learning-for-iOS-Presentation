{
 "cells": [
  {
   "cell_type": "code",
   "execution_count": 15,
   "metadata": {},
   "outputs": [],
   "source": [
    "import turicreate as tc"
   ]
  },
  {
   "cell_type": "code",
   "execution_count": 20,
   "metadata": {},
   "outputs": [
    {
     "data": {
      "text/html": [
       "<pre>Finished parsing file /Users/cy/Desktop/MLDemo/text_classifier/reviews.csv</pre>"
      ],
      "text/plain": [
       "Finished parsing file /Users/cy/Desktop/MLDemo/text_classifier/reviews.csv"
      ]
     },
     "metadata": {},
     "output_type": "display_data"
    },
    {
     "data": {
      "text/html": [
       "<pre>Parsing completed. Parsed 100 lines in 0.049304 secs.</pre>"
      ],
      "text/plain": [
       "Parsing completed. Parsed 100 lines in 0.049304 secs."
      ]
     },
     "metadata": {},
     "output_type": "display_data"
    },
    {
     "name": "stdout",
     "output_type": "stream",
     "text": [
      "------------------------------------------------------\n",
      "Inferred types from first 100 line(s) of file as \n",
      "column_type_hints=[int,str]\n",
      "If parsing fails due to incorrect types, you can correct\n",
      "the inferred type list above and pass it to read_csv in\n",
      "the column_type_hints argument\n",
      "------------------------------------------------------\n"
     ]
    },
    {
     "data": {
      "text/html": [
       "<pre>Finished parsing file /Users/cy/Desktop/MLDemo/text_classifier/reviews.csv</pre>"
      ],
      "text/plain": [
       "Finished parsing file /Users/cy/Desktop/MLDemo/text_classifier/reviews.csv"
      ]
     },
     "metadata": {},
     "output_type": "display_data"
    },
    {
     "data": {
      "text/html": [
       "<pre>Parsing completed. Parsed 10261 lines in 0.072883 secs.</pre>"
      ],
      "text/plain": [
       "Parsing completed. Parsed 10261 lines in 0.072883 secs."
      ]
     },
     "metadata": {},
     "output_type": "display_data"
    }
   ],
   "source": [
    "data = tc.SFrame('reviews.csv')"
   ]
  },
  {
   "cell_type": "code",
   "execution_count": 21,
   "metadata": {},
   "outputs": [],
   "source": [
    "training_data, testing_data = data.random_split(0.8)"
   ]
  },
  {
   "cell_type": "code",
   "execution_count": 25,
   "metadata": {},
   "outputs": [
    {
     "name": "stdout",
     "output_type": "stream",
     "text": [
      "PROGRESS: Creating a validation set from 5 percent of training data. This may take a while.\n",
      "          You can set ``validation_set=None`` to disable validation tracking.\n",
      "\n"
     ]
    },
    {
     "data": {
      "text/html": [
       "<pre>Logistic regression:</pre>"
      ],
      "text/plain": [
       "Logistic regression:"
      ]
     },
     "metadata": {},
     "output_type": "display_data"
    },
    {
     "data": {
      "text/html": [
       "<pre>--------------------------------------------------------</pre>"
      ],
      "text/plain": [
       "--------------------------------------------------------"
      ]
     },
     "metadata": {},
     "output_type": "display_data"
    },
    {
     "data": {
      "text/html": [
       "<pre>Number of examples          : 7844</pre>"
      ],
      "text/plain": [
       "Number of examples          : 7844"
      ]
     },
     "metadata": {},
     "output_type": "display_data"
    },
    {
     "data": {
      "text/html": [
       "<pre>Number of classes           : 5</pre>"
      ],
      "text/plain": [
       "Number of classes           : 5"
      ]
     },
     "metadata": {},
     "output_type": "display_data"
    },
    {
     "data": {
      "text/html": [
       "<pre>Number of feature columns   : 1</pre>"
      ],
      "text/plain": [
       "Number of feature columns   : 1"
      ]
     },
     "metadata": {},
     "output_type": "display_data"
    },
    {
     "data": {
      "text/html": [
       "<pre>Number of unpacked features : 9859</pre>"
      ],
      "text/plain": [
       "Number of unpacked features : 9859"
      ]
     },
     "metadata": {},
     "output_type": "display_data"
    },
    {
     "data": {
      "text/html": [
       "<pre>Number of coefficients      : 39440</pre>"
      ],
      "text/plain": [
       "Number of coefficients      : 39440"
      ]
     },
     "metadata": {},
     "output_type": "display_data"
    },
    {
     "data": {
      "text/html": [
       "<pre>Starting L-BFGS</pre>"
      ],
      "text/plain": [
       "Starting L-BFGS"
      ]
     },
     "metadata": {},
     "output_type": "display_data"
    },
    {
     "data": {
      "text/html": [
       "<pre>--------------------------------------------------------</pre>"
      ],
      "text/plain": [
       "--------------------------------------------------------"
      ]
     },
     "metadata": {},
     "output_type": "display_data"
    },
    {
     "data": {
      "text/html": [
       "<pre>+-----------+----------+-----------+--------------+-------------------+---------------------+</pre>"
      ],
      "text/plain": [
       "+-----------+----------+-----------+--------------+-------------------+---------------------+"
      ]
     },
     "metadata": {},
     "output_type": "display_data"
    },
    {
     "data": {
      "text/html": [
       "<pre>| Iteration | Passes   | Step size | Elapsed Time | Training Accuracy | Validation Accuracy |</pre>"
      ],
      "text/plain": [
       "| Iteration | Passes   | Step size | Elapsed Time | Training Accuracy | Validation Accuracy |"
      ]
     },
     "metadata": {},
     "output_type": "display_data"
    },
    {
     "data": {
      "text/html": [
       "<pre>+-----------+----------+-----------+--------------+-------------------+---------------------+</pre>"
      ],
      "text/plain": [
       "+-----------+----------+-----------+--------------+-------------------+---------------------+"
      ]
     },
     "metadata": {},
     "output_type": "display_data"
    },
    {
     "data": {
      "text/html": [
       "<pre>| 0         | 1        | NaN       | 0.009686     | 0.020908          | 0.026455            |</pre>"
      ],
      "text/plain": [
       "| 0         | 1        | NaN       | 0.009686     | 0.020908          | 0.026455            |"
      ]
     },
     "metadata": {},
     "output_type": "display_data"
    },
    {
     "data": {
      "text/html": [
       "<pre>| 1         | 5        | 0.000032  | 0.101462     | 0.674656          | 0.687831            |</pre>"
      ],
      "text/plain": [
       "| 1         | 5        | 0.000032  | 0.101462     | 0.674656          | 0.687831            |"
      ]
     },
     "metadata": {},
     "output_type": "display_data"
    },
    {
     "data": {
      "text/html": [
       "<pre>| 2         | 10       | 2.000000  | 0.196136     | 0.770908          | 0.653439            |</pre>"
      ],
      "text/plain": [
       "| 2         | 10       | 2.000000  | 0.196136     | 0.770908          | 0.653439            |"
      ]
     },
     "metadata": {},
     "output_type": "display_data"
    },
    {
     "data": {
      "text/html": [
       "<pre>| 3         | 11       | 2.000000  | 0.264239     | 0.800739          | 0.658730            |</pre>"
      ],
      "text/plain": [
       "| 3         | 11       | 2.000000  | 0.264239     | 0.800739          | 0.658730            |"
      ]
     },
     "metadata": {},
     "output_type": "display_data"
    },
    {
     "data": {
      "text/html": [
       "<pre>| 4         | 12       | 2.000000  | 0.331410     | 0.862060          | 0.656085            |</pre>"
      ],
      "text/plain": [
       "| 4         | 12       | 2.000000  | 0.331410     | 0.862060          | 0.656085            |"
      ]
     },
     "metadata": {},
     "output_type": "display_data"
    },
    {
     "data": {
      "text/html": [
       "<pre>| 5         | 13       | 2.000000  | 0.399513     | 0.815528          | 0.682540            |</pre>"
      ],
      "text/plain": [
       "| 5         | 13       | 2.000000  | 0.399513     | 0.815528          | 0.682540            |"
      ]
     },
     "metadata": {},
     "output_type": "display_data"
    },
    {
     "data": {
      "text/html": [
       "<pre>| 10        | 19       | 1.000000  | 0.743834     | 0.955380          | 0.574074            |</pre>"
      ],
      "text/plain": [
       "| 10        | 19       | 1.000000  | 0.743834     | 0.955380          | 0.574074            |"
      ]
     },
     "metadata": {},
     "output_type": "display_data"
    },
    {
     "data": {
      "text/html": [
       "<pre>| 50        | 101      | 1.419975  | 3.891243     | 0.998215          | 0.568783            |</pre>"
      ],
      "text/plain": [
       "| 50        | 101      | 1.419975  | 3.891243     | 0.998215          | 0.568783            |"
      ]
     },
     "metadata": {},
     "output_type": "display_data"
    },
    {
     "data": {
      "text/html": [
       "<pre>| 55        | 112      | 1.000000  | 4.306674     | 0.998598          | 0.563492            |</pre>"
      ],
      "text/plain": [
       "| 55        | 112      | 1.000000  | 4.306674     | 0.998598          | 0.563492            |"
      ]
     },
     "metadata": {},
     "output_type": "display_data"
    },
    {
     "data": {
      "text/html": [
       "<pre>+-----------+----------+-----------+--------------+-------------------+---------------------+</pre>"
      ],
      "text/plain": [
       "+-----------+----------+-----------+--------------+-------------------+---------------------+"
      ]
     },
     "metadata": {},
     "output_type": "display_data"
    },
    {
     "data": {
      "text/html": [
       "<pre>TERMINATED: Terminated due to numerical difficulties.</pre>"
      ],
      "text/plain": [
       "TERMINATED: Terminated due to numerical difficulties."
      ]
     },
     "metadata": {},
     "output_type": "display_data"
    },
    {
     "data": {
      "text/html": [
       "<pre>This model may not be ideal. To improve it, consider doing one of the following:\n",
       "(a) Increasing the regularization.\n",
       "(b) Standardizing the input data.\n",
       "(c) Removing highly correlated features.\n",
       "(d) Removing `inf` and `NaN` values in the training data.</pre>"
      ],
      "text/plain": [
       "This model may not be ideal. To improve it, consider doing one of the following:\n",
       "(a) Increasing the regularization.\n",
       "(b) Standardizing the input data.\n",
       "(c) Removing highly correlated features.\n",
       "(d) Removing `inf` and `NaN` values in the training data."
      ]
     },
     "metadata": {},
     "output_type": "display_data"
    }
   ],
   "source": [
    "model = tc.text_classifier.create(training_data, 'rating', features=['review'], max_iterations=500)"
   ]
  },
  {
   "cell_type": "code",
   "execution_count": 26,
   "metadata": {},
   "outputs": [
    {
     "data": {
      "text/plain": [
       "{'accuracy': 0.295242766061795,\n",
       " 'auc': 0.4608925634501494,\n",
       " 'confusion_matrix': Columns:\n",
       " \ttarget_label\tint\n",
       " \tpredicted_label\tint\n",
       " \tcount\tint\n",
       " \n",
       " Rows: 22\n",
       " \n",
       " Data:\n",
       " +--------------+-----------------+-------+\n",
       " | target_label | predicted_label | count |\n",
       " +--------------+-----------------+-------+\n",
       " |      4       |        5        |  127  |\n",
       " |      5       |        3        |  282  |\n",
       " |      1       |        3        |   5   |\n",
       " |      2       |        4        |   20  |\n",
       " |      3       |        2        |   5   |\n",
       " |      4       |        3        |   89  |\n",
       " |      4       |        2        |   16  |\n",
       " |      2       |        3        |   10  |\n",
       " |      5       |        4        |  648  |\n",
       " |      2       |        2        |   2   |\n",
       " +--------------+-----------------+-------+\n",
       " [22 rows x 3 columns]\n",
       " Note: Only the head of the SFrame is printed.\n",
       " You can use print_rows(num_rows=m, num_columns=n) to print more rows and columns.,\n",
       " 'f1_score': 0.15820830255531587,\n",
       " 'log_loss': 8.577042136853304,\n",
       " 'precision': 0.18846839497393797,\n",
       " 'recall': 0.18820705204786994,\n",
       " 'roc_curve': Columns:\n",
       " \tthreshold\tfloat\n",
       " \tfpr\tfloat\n",
       " \ttpr\tfloat\n",
       " \tp\tint\n",
       " \tn\tint\n",
       " \tclass\tint\n",
       " \n",
       " Rows: 500005\n",
       " \n",
       " Data:\n",
       " +-----------+--------------------+--------------------+----+------+-------+\n",
       " | threshold |        fpr         |        tpr         | p  |  n   | class |\n",
       " +-----------+--------------------+--------------------+----+------+-------+\n",
       " |    0.0    |        1.0         |        1.0         | 43 | 1996 |   0   |\n",
       " |   1e-05   | 0.7089178356713427 | 0.5813953488372093 | 43 | 1996 |   0   |\n",
       " |   2e-05   | 0.6838677354709419 | 0.5813953488372093 | 43 | 1996 |   0   |\n",
       " |   3e-05   | 0.6663326653306614 | 0.5813953488372093 | 43 | 1996 |   0   |\n",
       " |   4e-05   | 0.6578156312625251 | 0.5813953488372093 | 43 | 1996 |   0   |\n",
       " |   5e-05   | 0.6477955911823647 | 0.5813953488372093 | 43 | 1996 |   0   |\n",
       " |   6e-05   | 0.6402805611222445 | 0.5813953488372093 | 43 | 1996 |   0   |\n",
       " |   7e-05   | 0.6327655310621243 | 0.5348837209302325 | 43 | 1996 |   0   |\n",
       " |   8e-05   | 0.6282565130260521 | 0.5348837209302325 | 43 | 1996 |   0   |\n",
       " |   9e-05   | 0.624749498997996  | 0.5348837209302325 | 43 | 1996 |   0   |\n",
       " +-----------+--------------------+--------------------+----+------+-------+\n",
       " [500005 rows x 6 columns]\n",
       " Note: Only the head of the SFrame is printed.\n",
       " You can use print_rows(num_rows=m, num_columns=n) to print more rows and columns.}"
      ]
     },
     "execution_count": 26,
     "metadata": {},
     "output_type": "execute_result"
    }
   ],
   "source": [
    "model.evaluate(testing_data)"
   ]
  },
  {
   "cell_type": "code",
   "execution_count": 15,
   "metadata": {},
   "outputs": [],
   "source": [
    "    "
   ]
  },
  {
   "cell_type": "code",
   "execution_count": null,
   "metadata": {},
   "outputs": [],
   "source": []
  },
  {
   "cell_type": "code",
   "execution_count": null,
   "metadata": {},
   "outputs": [],
   "source": []
  }
 ],
 "metadata": {
  "kernelspec": {
   "display_name": "Python 3",
   "language": "python",
   "name": "python3"
  },
  "language_info": {
   "codemirror_mode": {
    "name": "ipython",
    "version": 3
   },
   "file_extension": ".py",
   "mimetype": "text/x-python",
   "name": "python",
   "nbconvert_exporter": "python",
   "pygments_lexer": "ipython3",
   "version": "3.6.6"
  }
 },
 "nbformat": 4,
 "nbformat_minor": 2
}
