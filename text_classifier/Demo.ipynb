{
 "cells": [
  {
   "cell_type": "code",
   "execution_count": 2,
   "metadata": {},
   "outputs": [],
   "source": [
    "import turicreate as tc"
   ]
  },
  {
   "cell_type": "code",
   "execution_count": 9,
   "metadata": {},
   "outputs": [
    {
     "data": {
      "text/html": [
       "<pre>Unable to parse line \"8838,0,Sentiment140,# @Catherine42 I wouldn't mind but I only had 1/2 a portion &amp; then left 1/2 the cream  just fruit for me then until my hols  x\"</pre>"
      ],
      "text/plain": [
       "Unable to parse line \"8838,0,Sentiment140,# @Catherine42 I wouldn't mind but I only had 1/2 a portion &amp; then left 1/2 the cream  just fruit for me then until my hols  x\""
      ]
     },
     "metadata": {},
     "output_type": "display_data"
    },
    {
     "data": {
      "text/html": [
       "<pre>Unable to parse line \"8839,1,Sentiment140,# @DeliciousLunch ... dark chocolate cookies? oh you tease! I'm writing to day n dipping into twitter for company \"</pre>"
      ],
      "text/plain": [
       "Unable to parse line \"8839,1,Sentiment140,# @DeliciousLunch ... dark chocolate cookies? oh you tease! I'm writing to day n dipping into twitter for company \""
      ]
     },
     "metadata": {},
     "output_type": "display_data"
    },
    {
     "data": {
      "text/html": [
       "<pre>Unable to parse line \"8840,1,Sentiment140,# followfriday @mstuyvenberg @feb_unsw @hazelmail @beckescreet - all almost as cool as he-man and she-ra \"</pre>"
      ],
      "text/plain": [
       "Unable to parse line \"8840,1,Sentiment140,# followfriday @mstuyvenberg @feb_unsw @hazelmail @beckescreet - all almost as cool as he-man and she-ra \""
      ]
     },
     "metadata": {},
     "output_type": "display_data"
    },
    {
     "data": {
      "text/html": [
       "<pre>Unable to parse line \"8841,1,Sentiment140,# followfriday @presentsqueen because she talks sense \"</pre>"
      ],
      "text/plain": [
       "Unable to parse line \"8841,1,Sentiment140,# followfriday @presentsqueen because she talks sense \""
      ]
     },
     "metadata": {},
     "output_type": "display_data"
    },
    {
     "data": {
      "text/html": [
       "<pre>Unable to parse line \"8842,1,Sentiment140,# New York is the most amazing city i've ever been to \"</pre>"
      ],
      "text/plain": [
       "Unable to parse line \"8842,1,Sentiment140,# New York is the most amazing city i've ever been to \""
      ]
     },
     "metadata": {},
     "output_type": "display_data"
    },
    {
     "data": {
      "text/html": [
       "<pre>Unable to parse line \"8843,0,Sentiment140,# number times I bottomed out just in our driveway = 4... a 6.5 hour trip to mass.. I'm scared \"</pre>"
      ],
      "text/plain": [
       "Unable to parse line \"8843,0,Sentiment140,# number times I bottomed out just in our driveway = 4... a 6.5 hour trip to mass.. I'm scared \""
      ]
     },
     "metadata": {},
     "output_type": "display_data"
    },
    {
     "data": {
      "text/html": [
       "<pre>Unable to parse line \"8844,0,Sentiment140,# of NYC celebrity street vendors &gt; # of POA celebrities  http://streetvendor.org/media/pdfs/Side2.pdf\"</pre>"
      ],
      "text/plain": [
       "Unable to parse line \"8844,0,Sentiment140,# of NYC celebrity street vendors &gt; # of POA celebrities  http://streetvendor.org/media/pdfs/Side2.pdf\""
      ]
     },
     "metadata": {},
     "output_type": "display_data"
    },
    {
     "data": {
      "text/html": [
       "<pre>Unable to parse line \"8845,1,Sentiment140,###### yay ##### thanks @matclayton ##### \"</pre>"
      ],
      "text/plain": [
       "Unable to parse line \"8845,1,Sentiment140,###### yay ##### thanks @matclayton ##### \""
      ]
     },
     "metadata": {},
     "output_type": "display_data"
    },
    {
     "data": {
      "text/html": [
       "<pre>Unable to parse line \"8846,0,Sentiment140,#$%#$^#%@ I HATE THE DENTIST\"\"</pre>"
      ],
      "text/plain": [
       "Unable to parse line \"8846,0,Sentiment140,#$%#$^#%@ I HATE THE DENTIST\"\""
      ]
     },
     "metadata": {},
     "output_type": "display_data"
    },
    {
     "data": {
      "text/html": [
       "<pre>Unable to parse line \"4291,0,Kaggle, Or that awful \"\" Goth twist on Brokeback Mountain \"\" the \"\" Shattered-Spine Emo-Mound of cow shit.\"\"</pre>"
      ],
      "text/plain": [
       "Unable to parse line \"4291,0,Kaggle, Or that awful \"\" Goth twist on Brokeback Mountain \"\" the \"\" Shattered-Spine Emo-Mound of cow shit.\"\""
      ]
     },
     "metadata": {},
     "output_type": "display_data"
    },
    {
     "data": {
      "text/html": [
       "<pre>11 lines failed to parse correctly</pre>"
      ],
      "text/plain": [
       "11 lines failed to parse correctly"
      ]
     },
     "metadata": {},
     "output_type": "display_data"
    },
    {
     "data": {
      "text/html": [
       "<pre>Finished parsing file /Users/cy/Desktop/MLDemo/text_classifier/tweets.csv</pre>"
      ],
      "text/plain": [
       "Finished parsing file /Users/cy/Desktop/MLDemo/text_classifier/tweets.csv"
      ]
     },
     "metadata": {},
     "output_type": "display_data"
    },
    {
     "data": {
      "text/html": [
       "<pre>Parsing completed. Parsed 100 lines in 0.050832 secs.</pre>"
      ],
      "text/plain": [
       "Parsing completed. Parsed 100 lines in 0.050832 secs."
      ]
     },
     "metadata": {},
     "output_type": "display_data"
    },
    {
     "name": "stdout",
     "output_type": "stream",
     "text": [
      "------------------------------------------------------\n",
      "Inferred types from first 100 line(s) of file as \n",
      "column_type_hints=[int,str]\n",
      "If parsing fails due to incorrect types, you can correct\n",
      "the inferred type list above and pass it to read_csv in\n",
      "the column_type_hints argument\n",
      "------------------------------------------------------\n"
     ]
    },
    {
     "data": {
      "text/html": [
       "<pre>Unable to parse line \"8838,0,Sentiment140,# @Catherine42 I wouldn't mind but I only had 1/2 a portion &amp; then left 1/2 the cream  just fruit for me then until my hols  x\"</pre>"
      ],
      "text/plain": [
       "Unable to parse line \"8838,0,Sentiment140,# @Catherine42 I wouldn't mind but I only had 1/2 a portion &amp; then left 1/2 the cream  just fruit for me then until my hols  x\""
      ]
     },
     "metadata": {},
     "output_type": "display_data"
    },
    {
     "data": {
      "text/html": [
       "<pre>Unable to parse line \"8839,1,Sentiment140,# @DeliciousLunch ... dark chocolate cookies? oh you tease! I'm writing to day n dipping into twitter for company \"</pre>"
      ],
      "text/plain": [
       "Unable to parse line \"8839,1,Sentiment140,# @DeliciousLunch ... dark chocolate cookies? oh you tease! I'm writing to day n dipping into twitter for company \""
      ]
     },
     "metadata": {},
     "output_type": "display_data"
    },
    {
     "data": {
      "text/html": [
       "<pre>Unable to parse line \"8840,1,Sentiment140,# followfriday @mstuyvenberg @feb_unsw @hazelmail @beckescreet - all almost as cool as he-man and she-ra \"</pre>"
      ],
      "text/plain": [
       "Unable to parse line \"8840,1,Sentiment140,# followfriday @mstuyvenberg @feb_unsw @hazelmail @beckescreet - all almost as cool as he-man and she-ra \""
      ]
     },
     "metadata": {},
     "output_type": "display_data"
    },
    {
     "data": {
      "text/html": [
       "<pre>Unable to parse line \"8841,1,Sentiment140,# followfriday @presentsqueen because she talks sense \"</pre>"
      ],
      "text/plain": [
       "Unable to parse line \"8841,1,Sentiment140,# followfriday @presentsqueen because she talks sense \""
      ]
     },
     "metadata": {},
     "output_type": "display_data"
    },
    {
     "data": {
      "text/html": [
       "<pre>Unable to parse line \"8842,1,Sentiment140,# New York is the most amazing city i've ever been to \"</pre>"
      ],
      "text/plain": [
       "Unable to parse line \"8842,1,Sentiment140,# New York is the most amazing city i've ever been to \""
      ]
     },
     "metadata": {},
     "output_type": "display_data"
    },
    {
     "data": {
      "text/html": [
       "<pre>Unable to parse line \"8843,0,Sentiment140,# number times I bottomed out just in our driveway = 4... a 6.5 hour trip to mass.. I'm scared \"</pre>"
      ],
      "text/plain": [
       "Unable to parse line \"8843,0,Sentiment140,# number times I bottomed out just in our driveway = 4... a 6.5 hour trip to mass.. I'm scared \""
      ]
     },
     "metadata": {},
     "output_type": "display_data"
    },
    {
     "data": {
      "text/html": [
       "<pre>Unable to parse line \"8844,0,Sentiment140,# of NYC celebrity street vendors &gt; # of POA celebrities  http://streetvendor.org/media/pdfs/Side2.pdf\"</pre>"
      ],
      "text/plain": [
       "Unable to parse line \"8844,0,Sentiment140,# of NYC celebrity street vendors &gt; # of POA celebrities  http://streetvendor.org/media/pdfs/Side2.pdf\""
      ]
     },
     "metadata": {},
     "output_type": "display_data"
    },
    {
     "data": {
      "text/html": [
       "<pre>Unable to parse line \"8845,1,Sentiment140,###### yay ##### thanks @matclayton ##### \"</pre>"
      ],
      "text/plain": [
       "Unable to parse line \"8845,1,Sentiment140,###### yay ##### thanks @matclayton ##### \""
      ]
     },
     "metadata": {},
     "output_type": "display_data"
    },
    {
     "data": {
      "text/html": [
       "<pre>Unable to parse line \"8846,0,Sentiment140,#$%#$^#%@ I HATE THE DENTIST\"\"</pre>"
      ],
      "text/plain": [
       "Unable to parse line \"8846,0,Sentiment140,#$%#$^#%@ I HATE THE DENTIST\"\""
      ]
     },
     "metadata": {},
     "output_type": "display_data"
    },
    {
     "data": {
      "text/html": [
       "<pre>Unable to parse line \"4291,0,Kaggle, Or that awful \"\" Goth twist on Brokeback Mountain \"\" the \"\" Shattered-Spine Emo-Mound of cow shit.\"\"</pre>"
      ],
      "text/plain": [
       "Unable to parse line \"4291,0,Kaggle, Or that awful \"\" Goth twist on Brokeback Mountain \"\" the \"\" Shattered-Spine Emo-Mound of cow shit.\"\""
      ]
     },
     "metadata": {},
     "output_type": "display_data"
    },
    {
     "data": {
      "text/html": [
       "<pre>11 lines failed to parse correctly</pre>"
      ],
      "text/plain": [
       "11 lines failed to parse correctly"
      ]
     },
     "metadata": {},
     "output_type": "display_data"
    },
    {
     "data": {
      "text/html": [
       "<pre>Finished parsing file /Users/cy/Desktop/MLDemo/text_classifier/tweets.csv</pre>"
      ],
      "text/plain": [
       "Finished parsing file /Users/cy/Desktop/MLDemo/text_classifier/tweets.csv"
      ]
     },
     "metadata": {},
     "output_type": "display_data"
    },
    {
     "data": {
      "text/html": [
       "<pre>Parsing completed. Parsed 65534 lines in 0.077752 secs.</pre>"
      ],
      "text/plain": [
       "Parsing completed. Parsed 65534 lines in 0.077752 secs."
      ]
     },
     "metadata": {},
     "output_type": "display_data"
    }
   ],
   "source": [
    "# data = tc.SFrame('train.csv')\n",
    "data = tc.SFrame('tweets.csv')"
   ]
  },
  {
   "cell_type": "code",
   "execution_count": 12,
   "metadata": {},
   "outputs": [
    {
     "data": {
      "text/html": [
       "<pre>Materializing SFrame</pre>"
      ],
      "text/plain": [
       "Materializing SFrame"
      ]
     },
     "metadata": {},
     "output_type": "display_data"
    }
   ],
   "source": [
    "training_data, testing_data = data.random_split(0.8)\n",
    "training_data.explore()"
   ]
  },
  {
   "cell_type": "code",
   "execution_count": 13,
   "metadata": {},
   "outputs": [
    {
     "name": "stdout",
     "output_type": "stream",
     "text": [
      "PROGRESS: Creating a validation set from 5 percent of training data. This may take a while.\n",
      "          You can set ``validation_set=None`` to disable validation tracking.\n",
      "\n"
     ]
    },
    {
     "data": {
      "text/html": [
       "<pre>Logistic regression:</pre>"
      ],
      "text/plain": [
       "Logistic regression:"
      ]
     },
     "metadata": {},
     "output_type": "display_data"
    },
    {
     "data": {
      "text/html": [
       "<pre>--------------------------------------------------------</pre>"
      ],
      "text/plain": [
       "--------------------------------------------------------"
      ]
     },
     "metadata": {},
     "output_type": "display_data"
    },
    {
     "data": {
      "text/html": [
       "<pre>Number of examples          : 50039</pre>"
      ],
      "text/plain": [
       "Number of examples          : 50039"
      ]
     },
     "metadata": {},
     "output_type": "display_data"
    },
    {
     "data": {
      "text/html": [
       "<pre>Number of classes           : 2</pre>"
      ],
      "text/plain": [
       "Number of classes           : 2"
      ]
     },
     "metadata": {},
     "output_type": "display_data"
    },
    {
     "data": {
      "text/html": [
       "<pre>Number of feature columns   : 1</pre>"
      ],
      "text/plain": [
       "Number of feature columns   : 1"
      ]
     },
     "metadata": {},
     "output_type": "display_data"
    },
    {
     "data": {
      "text/html": [
       "<pre>Number of unpacked features : 21064</pre>"
      ],
      "text/plain": [
       "Number of unpacked features : 21064"
      ]
     },
     "metadata": {},
     "output_type": "display_data"
    },
    {
     "data": {
      "text/html": [
       "<pre>Number of coefficients      : 21065</pre>"
      ],
      "text/plain": [
       "Number of coefficients      : 21065"
      ]
     },
     "metadata": {},
     "output_type": "display_data"
    },
    {
     "data": {
      "text/html": [
       "<pre>Starting L-BFGS</pre>"
      ],
      "text/plain": [
       "Starting L-BFGS"
      ]
     },
     "metadata": {},
     "output_type": "display_data"
    },
    {
     "data": {
      "text/html": [
       "<pre>--------------------------------------------------------</pre>"
      ],
      "text/plain": [
       "--------------------------------------------------------"
      ]
     },
     "metadata": {},
     "output_type": "display_data"
    },
    {
     "data": {
      "text/html": [
       "<pre>+-----------+----------+-----------+--------------+-------------------+---------------------+</pre>"
      ],
      "text/plain": [
       "+-----------+----------+-----------+--------------+-------------------+---------------------+"
      ]
     },
     "metadata": {},
     "output_type": "display_data"
    },
    {
     "data": {
      "text/html": [
       "<pre>| Iteration | Passes   | Step size | Elapsed Time | Training Accuracy | Validation Accuracy |</pre>"
      ],
      "text/plain": [
       "| Iteration | Passes   | Step size | Elapsed Time | Training Accuracy | Validation Accuracy |"
      ]
     },
     "metadata": {},
     "output_type": "display_data"
    },
    {
     "data": {
      "text/html": [
       "<pre>+-----------+----------+-----------+--------------+-------------------+---------------------+</pre>"
      ],
      "text/plain": [
       "+-----------+----------+-----------+--------------+-------------------+---------------------+"
      ]
     },
     "metadata": {},
     "output_type": "display_data"
    },
    {
     "data": {
      "text/html": [
       "<pre>| 0         | 1        | NaN       | 0.011847     | 0.551690          | 0.541040            |</pre>"
      ],
      "text/plain": [
       "| 0         | 1        | NaN       | 0.011847     | 0.551690          | 0.541040            |"
      ]
     },
     "metadata": {},
     "output_type": "display_data"
    },
    {
     "data": {
      "text/html": [
       "<pre>| 1         | 3        | 0.000020  | 0.045259     | 0.809169          | 0.697495            |</pre>"
      ],
      "text/plain": [
       "| 1         | 3        | 0.000020  | 0.045259     | 0.809169          | 0.697495            |"
      ]
     },
     "metadata": {},
     "output_type": "display_data"
    },
    {
     "data": {
      "text/html": [
       "<pre>| 2         | 5        | 1.000000  | 0.080913     | 0.838126          | 0.702505            |</pre>"
      ],
      "text/plain": [
       "| 2         | 5        | 1.000000  | 0.080913     | 0.838126          | 0.702505            |"
      ]
     },
     "metadata": {},
     "output_type": "display_data"
    },
    {
     "data": {
      "text/html": [
       "<pre>| 3         | 6        | 1.000000  | 0.099329     | 0.857451          | 0.702119            |</pre>"
      ],
      "text/plain": [
       "| 3         | 6        | 1.000000  | 0.099329     | 0.857451          | 0.702119            |"
      ]
     },
     "metadata": {},
     "output_type": "display_data"
    },
    {
     "data": {
      "text/html": [
       "<pre>| 4         | 7        | 1.000000  | 0.119668     | 0.870521          | 0.701734            |</pre>"
      ],
      "text/plain": [
       "| 4         | 7        | 1.000000  | 0.119668     | 0.870521          | 0.701734            |"
      ]
     },
     "metadata": {},
     "output_type": "display_data"
    },
    {
     "data": {
      "text/html": [
       "<pre>| 5         | 8        | 1.000000  | 0.139994     | 0.884610          | 0.692871            |</pre>"
      ],
      "text/plain": [
       "| 5         | 8        | 1.000000  | 0.139994     | 0.884610          | 0.692871            |"
      ]
     },
     "metadata": {},
     "output_type": "display_data"
    },
    {
     "data": {
      "text/html": [
       "<pre>| 10        | 14       | 1.000000  | 0.243307     | 0.899878          | 0.679769            |</pre>"
      ],
      "text/plain": [
       "| 10        | 14       | 1.000000  | 0.243307     | 0.899878          | 0.679769            |"
      ]
     },
     "metadata": {},
     "output_type": "display_data"
    },
    {
     "data": {
      "text/html": [
       "<pre>| 50        | 54       | 1.000000  | 0.965981     | 0.907892          | 0.653950            |</pre>"
      ],
      "text/plain": [
       "| 50        | 54       | 1.000000  | 0.965981     | 0.907892          | 0.653950            |"
      ]
     },
     "metadata": {},
     "output_type": "display_data"
    },
    {
     "data": {
      "text/html": [
       "<pre>| 100       | 105      | 1.000000  | 1.920737     | 0.907792          | 0.651252            |</pre>"
      ],
      "text/plain": [
       "| 100       | 105      | 1.000000  | 1.920737     | 0.907792          | 0.651252            |"
      ]
     },
     "metadata": {},
     "output_type": "display_data"
    },
    {
     "data": {
      "text/html": [
       "<pre>| 200       | 226      | 1.000000  | 3.884199     | 0.907752          | 0.655491            |</pre>"
      ],
      "text/plain": [
       "| 200       | 226      | 1.000000  | 3.884199     | 0.907752          | 0.655491            |"
      ]
     },
     "metadata": {},
     "output_type": "display_data"
    },
    {
     "data": {
      "text/html": [
       "<pre>+-----------+----------+-----------+--------------+-------------------+---------------------+</pre>"
      ],
      "text/plain": [
       "+-----------+----------+-----------+--------------+-------------------+---------------------+"
      ]
     },
     "metadata": {},
     "output_type": "display_data"
    },
    {
     "data": {
      "text/html": [
       "<pre>Completed (Iteration limit reached).</pre>"
      ],
      "text/plain": [
       "Completed (Iteration limit reached)."
      ]
     },
     "metadata": {},
     "output_type": "display_data"
    },
    {
     "data": {
      "text/html": [
       "<pre>This model may not be optimal. To improve it, consider increasing `max_iterations`.</pre>"
      ],
      "text/plain": [
       "This model may not be optimal. To improve it, consider increasing `max_iterations`."
      ]
     },
     "metadata": {},
     "output_type": "display_data"
    }
   ],
   "source": [
    "model = tc.text_classifier.create(training_data, 'Sentiment', features=['Tweet'], max_iterations=200)"
   ]
  },
  {
   "cell_type": "code",
   "execution_count": 14,
   "metadata": {},
   "outputs": [
    {
     "data": {
      "text/plain": [
       "{'accuracy': 0.6663565891472868,\n",
       " 'auc': 0.6803756376780906,\n",
       " 'confusion_matrix': Columns:\n",
       " \ttarget_label\tint\n",
       " \tpredicted_label\tint\n",
       " \tcount\tint\n",
       " \n",
       " Rows: 4\n",
       " \n",
       " Data:\n",
       " +--------------+-----------------+-------+\n",
       " | target_label | predicted_label | count |\n",
       " +--------------+-----------------+-------+\n",
       " |      0       |        1        |  2237 |\n",
       " |      0       |        0        |  3578 |\n",
       " |      1       |        1        |  5018 |\n",
       " |      1       |        0        |  2067 |\n",
       " +--------------+-----------------+-------+\n",
       " [4 rows x 3 columns],\n",
       " 'f1_score': 0.699860529986053,\n",
       " 'log_loss': 2.4392066724755956,\n",
       " 'precision': 0.6916609235010338,\n",
       " 'recall': 0.708256880733945,\n",
       " 'roc_curve': Columns:\n",
       " \tthreshold\tfloat\n",
       " \tfpr\tfloat\n",
       " \ttpr\tfloat\n",
       " \tp\tint\n",
       " \tn\tint\n",
       " \n",
       " Rows: 100001\n",
       " \n",
       " Data:\n",
       " +-----------+--------------------+--------------------+------+------+\n",
       " | threshold |        fpr         |        tpr         |  p   |  n   |\n",
       " +-----------+--------------------+--------------------+------+------+\n",
       " |    0.0    |        1.0         |        1.0         | 7085 | 5815 |\n",
       " |   1e-05   | 0.8565778159931212 | 0.9378969654199012 | 7085 | 5815 |\n",
       " |   2e-05   | 0.847463456577816  | 0.9318278052223007 | 7085 | 5815 |\n",
       " |   3e-05   | 0.8412725709372313 | 0.9291460832745236 | 7085 | 5815 |\n",
       " |   4e-05   | 0.8371453138435082 | 0.927028934368384  | 7085 | 5815 |\n",
       " |   5e-05   | 0.8318142734307825 | 0.9250529287226535 | 7085 | 5815 |\n",
       " |   6e-05   | 0.8299226139294927 | 0.9240649258997883 | 7085 | 5815 |\n",
       " |   7e-05   | 0.827171109200344  | 0.9233592095977418 | 7085 | 5815 |\n",
       " |   8e-05   | 0.8247635425623387 | 0.9230769230769231 | 7085 | 5815 |\n",
       " |   9e-05   | 0.8221840068787618 | 0.9220889202540579 | 7085 | 5815 |\n",
       " +-----------+--------------------+--------------------+------+------+\n",
       " [100001 rows x 5 columns]\n",
       " Note: Only the head of the SFrame is printed.\n",
       " You can use print_rows(num_rows=m, num_columns=n) to print more rows and columns.}"
      ]
     },
     "execution_count": 14,
     "metadata": {},
     "output_type": "execute_result"
    }
   ],
   "source": [
    "model.evaluate(testing_data)"
   ]
  },
  {
   "cell_type": "code",
   "execution_count": 15,
   "metadata": {},
   "outputs": [],
   "source": [
    "model.export_coreml('Tweets.mlmodel')"
   ]
  },
  {
   "cell_type": "code",
   "execution_count": 58,
   "metadata": {},
   "outputs": [],
   "source": [
    "model.save('Tweets.model')"
   ]
  },
  {
   "cell_type": "code",
   "execution_count": null,
   "metadata": {},
   "outputs": [],
   "source": []
  }
 ],
 "metadata": {
  "kernelspec": {
   "display_name": "Python 3",
   "language": "python",
   "name": "python3"
  },
  "language_info": {
   "codemirror_mode": {
    "name": "ipython",
    "version": 3
   },
   "file_extension": ".py",
   "mimetype": "text/x-python",
   "name": "python",
   "nbconvert_exporter": "python",
   "pygments_lexer": "ipython3",
   "version": "3.6.6"
  }
 },
 "nbformat": 4,
 "nbformat_minor": 2
}
